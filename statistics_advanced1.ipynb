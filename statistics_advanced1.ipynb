{
  "nbformat": 4,
  "nbformat_minor": 0,
  "metadata": {
    "colab": {
      "provenance": []
    },
    "kernelspec": {
      "name": "python3",
      "display_name": "Python 3"
    },
    "language_info": {
      "name": "python"
    }
  },
  "cells": [
    {
      "cell_type": "markdown",
      "source": [
        "1. What is a random variable in probability theory?\n",
        "\n",
        "* In probability theory, a random variable is a variable that takes on different possible values depending on the outcome of a random experiment.\n",
        "\n",
        "* Suppose you roll a fair six-sided die.\n",
        "* The sample space (all possible outcomes) is:\n",
        "\n",
        "𝑆 = { 1,2,3,4,5,6}\n",
        "S={1,2,3,4,5,6}\n",
        "\n",
        "Define a random variable 𝑋 = “the number showing on the die”.\n",
        "Then 𝑋 can take any value from 1 to 6 depending on the outcome.\n",
        "So 𝑋 is a random variable.\n",
        "\n",
        "2. What are the types of random variables?\n",
        "\n",
        "* Discrete Random Variable\n",
        "\n",
        "A discrete random variable takes a finite or countable number of possible values.\n",
        "\n",
        "Key points:\n",
        "\n",
        "Values are separate and distinct (not continuous).\n",
        "\n",
        "Usually results from counting outcomes.\n",
        "\n",
        "Its probability distribution is called a Probability Mass Function (PMF).\n",
        "\n",
        "Examples:\n",
        "\n",
        "Number of heads when tossing 3 coins → {0, 1, 2, 3}\n",
        "\n",
        "Number of students present in class → {0, 1, 2, …}\n",
        "\n",
        "Score on a dice → {1, 2, 3, 4, 5, 6}\n",
        "\n",
        "3. Explain the difference between discrete and continuous distributions?\n",
        "\n",
        "* Discrete Distribution:\n",
        "* Describes probabilities of discrete random variables (countable outcomes).\n",
        "* Takes specific, separate values (like 0, 1, 2, 3…).\n",
        "* Probability Mass Function (PMF) — gives 𝑃 (𝑋 =𝑥)\n",
        "P(X=x).\n",
        "* Can have a positive probability (e.g., 𝑃 (𝑋 = 2) = 0.3\n",
        "P(X=2)=0.3).\n",
        "\n",
        "* Continuous Distribution:\n",
        "* Describes probabilities of continuous random variables (infinite possible outcomes).\n",
        "* Takes any value in an interval or range (like 1.2, 1.23, 1.234…).\n",
        "* Probability Density Function (PDF) — gives probability over a range:\n",
        "𝑃 ( 𝑎 < 𝑋 < 𝑏 )\n",
        "P(a<X<b).\n",
        "* Smooth curve (area under curve represents probability).\n",
        "\n",
        "4. What is a binomial distribution, and how is it used in probability?\n",
        "\n",
        "* A Binomial Distribution is a discrete probability distribution that models the number of successes in a fixed number of independent trials, where each trial has only two possible outcomes:\n",
        "* Success (e.g., Head, Win, Pass)\n",
        "* Failure (e.g., Tail, Lose, Fail)\n",
        "\n",
        "* Conditions for a Binomial Distribution:\n",
        "* A random variable follows a Binomial Distribution if all these are true:\n",
        "* The experiment has a fixed number of trials (n).\n",
        "* Each trial has only two outcomes — success or failure.\n",
        "* The probability of success (p) remains the same for every trial.\n",
        "* All trials are independent (the outcome of one doesn’t affect others).\n",
        "\n",
        "5. What is the standard normal distribution, and why is it important?\n",
        "\n",
        "* The Standard Normal Distribution is a special case of the Normal (or Gaussian) Distribution.\n",
        "* It is a continuous probability distribution that is:\n",
        "* Symmetrical about the mean\n",
        "* Bell-shaped curve\n",
        "* Has a mean (μ) = 0 and standard deviation (σ) = 1\n",
        "\n",
        "6. What is the Central Limit Theorem (CLT), and why is it critical in statistics?\n",
        "\n",
        "* The Central Limit Theorem (CLT) states that:\n",
        "* When we take many random samples from any population (with any shape of distribution) and calculate their sample means,\n",
        "* the distribution of those sample means will approach a normal distribution,\n",
        "as the sample size becomes large (usually n ≥ 30).\n",
        "\n",
        "7. What is the significance of confidence intervals in statistical analysis?\n",
        "\n",
        "* A Confidence Interval gives a range of values that is likely to contain the true population parameter (like mean or proportion), based on sample data.\n",
        "\n",
        "* It shows how confident we are about our estimate.\n",
        "\n",
        "* Example:\n",
        "* You survey 100 students.\n",
        "\n",
        "* The average height from the sample = 165 cm.\n",
        "\n",
        "* You calculate a 95% confidence interval as:\n",
        "(163 cm, 167 cm)\n",
        "(163 cm,167 cm)\n",
        "* This means: We are 95% confident that the true average height of all students lies between 163 cm and 167 cm.\n",
        "\n",
        "8. What is the concept of expected value in a probability distribution?\n",
        "\n",
        "* The expected value (EV) of a random variable is the average outcome you would expect if an experiment were repeated many times.\n",
        "\n",
        "* In simple words:\n",
        "It’s the long-run average of possible values, weighted by their probabilities.\n",
        "\n"
      ],
      "metadata": {
        "id": "exHOK_mI7rBY"
      }
    },
    {
      "cell_type": "code",
      "source": [
        "# Write a Python program to generate 1000 random numbers from a normal distribution with mean = 50 and standard deviation = 5. Compute its mean and standard deviation using NumPy, and draw a histogram to visualize the distribution.\n",
        "\n",
        "\n",
        "import numpy as np\n",
        "import matplotlib.pyplot as plt\n",
        "\n",
        "# Step 1: Generate 1000 random numbers from a normal distribution\n",
        "mean = 50\n",
        "std_dev = 5\n",
        "data = np.random.normal(mean, std_dev, 1000)\n",
        "\n",
        "# Step 2: Compute mean and standard deviation using NumPy\n",
        "calculated_mean = np.mean(data)\n",
        "calculated_std = np.std(data)\n",
        "\n",
        "# Step 3: Display results\n",
        "print(\"Calculated Mean:\", calculated_mean)\n",
        "print(\"Calculated Standard Deviation:\", calculated_std)\n",
        "\n",
        "# Step 4: Draw histogram\n",
        "plt.hist(data, bins=30, color='skyblue', edgecolor='black')\n",
        "plt.title('Normal Distribution (mean=50, std=5)')\n",
        "plt.xlabel('Value')\n",
        "plt.ylabel('Frequency')\n",
        "\n",
        "# Step 5: Show the plot\n",
        "plt.show()\n"
      ],
      "metadata": {
        "colab": {
          "base_uri": "https://localhost:8080/",
          "height": 507
        },
        "id": "EDtebC6JBdTH",
        "outputId": "952498fd-7547-4e93-ac16-4e03c1a728f2"
      },
      "execution_count": 2,
      "outputs": [
        {
          "output_type": "stream",
          "name": "stdout",
          "text": [
            "Calculated Mean: 49.9913852799753\n",
            "Calculated Standard Deviation: 5.1503723234788445\n"
          ]
        },
        {
          "output_type": "display_data",
          "data": {
            "text/plain": [
              "<Figure size 640x480 with 1 Axes>"
            ],
            "image/png": "[encoded data removed]"
          },
          "metadata": {}
        }
      ]
    },
    {
      "cell_type": "code",
      "source": [
        "# You are working as a data analyst for a retail company. The company has collected daily sales data for 2 years and wants you to identify the overall sales trend.\n",
        "# daily_sales = [220, 245, 210, 265, 230, 250, 260, 275, 240, 255, 235, 260, 245, 250, 225, 270, 265, 255, 250, 260]\n",
        "\n",
        "import numpy as np\n",
        "from scipy import stats\n",
        "\n",
        "# Given daily sales data\n",
        "daily_sales = [220, 245, 210, 265, 230, 250, 260, 275, 240, 255,\n",
        "               235, 260, 245, 250, 225, 270, 265, 255, 250, 260]\n",
        "\n",
        "# Sample size\n",
        "n = len(daily_sales)\n",
        "\n",
        "# Step 1: Compute sample mean and standard deviation\n",
        "mean_sales = np.mean(daily_sales)\n",
        "std_sales = np.std(daily_sales, ddof=1)  # sample std deviation\n",
        "\n",
        "# Step 2: Compute Standard Error (SE)\n",
        "SE = std_sales / np.sqrt(n)\n",
        "\n",
        "# Step 3: Find Z value for 95% confidence level\n",
        "confidence_level = 0.95\n",
        "z_value = stats.norm.ppf(1 - (1 - confidence_level) / 2)\n",
        "\n",
        "# Step 4: Calculate confidence interval\n",
        "margin_of_error = z_value * SE\n",
        "CI_lower = mean_sales - margin_of_error\n",
        "CI_upper = mean_sales + margin_of_error\n",
        "\n",
        "# Step 5: Output results\n",
        "print(f\"Sample Mean Sales: {mean_sales:.2f}\")\n",
        "print(f\"Standard Deviation: {std_sales:.2f}\")\n",
        "print(f\"Standard Error: {SE:.2f}\")\n",
        "print(f\"95% Confidence Interval: ({CI_lower:.2f}, {CI_upper:.2f})\")\n"
      ],
      "metadata": {
        "colab": {
          "base_uri": "https://localhost:8080/"
        },
        "id": "NslpKUaOCPhd",
        "outputId": "3bb6479d-b715-4a46-89ef-5f45a12cd26a"
      },
      "execution_count": 3,
      "outputs": [
        {
          "output_type": "stream",
          "name": "stdout",
          "text": [
            "Sample Mean Sales: 248.25\n",
            "Standard Deviation: 17.27\n",
            "Standard Error: 3.86\n",
            "95% Confidence Interval: (240.68, 255.82)\n"
          ]
        }
      ]
    }
  ]
}